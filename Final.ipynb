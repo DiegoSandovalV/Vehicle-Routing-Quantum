{
 "cells": [
  {
   "cell_type": "markdown",
   "id": "9ef317a1-7fc9-4b90-8767-9b72dfbd00d4",
   "metadata": {
    "tags": []
   },
   "source": [
    "# \n",
    "\n",
    "## Instituto Tecnológico de Estudios Superiores de Monterrey\n",
    "\n",
    "Campus Querétaro\n",
    "\n",
    "TC2005S.1 - Computación Cuántica para Todos\n",
    "\n",
    "## Participants \n",
    "\n",
    "| Name                                 | ID        |\n",
    "|--------------------------------------|-----------|\n",
    "| Diego Ernesto Sandoval Vargas        | A01709113 |\n",
    "| Sergio Garnica González              | A01704025 |\n",
    "| Ricardo Adolfo Fernández Alvarado    | A01704813 |\n",
    "| Carlos Rodrigo Salguero Alcántara    | A00833341 |\n",
    "\n",
    "Friday 15, September 2023"
   ]
  },
  {
   "cell_type": "code",
   "execution_count": null,
   "id": "bb95eb3b-11aa-4c24-bcf1-92bce67002fb",
   "metadata": {
    "tags": []
   },
   "outputs": [],
   "source": [
    "!pip install qiskit_ibm_provider\n",
    "!pip install qiskit_algorithms"
   ]
  },
  {
   "cell_type": "markdown",
   "id": "6076fccc-2f5a-478b-a359-54571cd447a7",
   "metadata": {
    "tags": []
   },
   "source": [
    "# Quantum Vehicle Routing Solver"
   ]
  },
  {
   "cell_type": "markdown",
   "id": "85457650-2a96-4496-a04e-fb9f66a46894",
   "metadata": {},
   "source": [
    "## Necessary Dependencies"
   ]
  },
  {
   "cell_type": "code",
   "execution_count": 1,
   "id": "4e6b42bb-8928-4c14-890a-62aa849c95f7",
   "metadata": {
    "tags": []
   },
   "outputs": [],
   "source": [
    "from qiskit import QuantumCircuit, transpile\n",
    "from qiskit_ibm_provider import *\n",
    "from qiskit.tools.jupyter import *\n",
    "from qiskit.visualization import *\n",
    "from ibm_quantum_widgets import *\n",
    "from qiskit_ibm_runtime import QiskitRuntimeService, Sampler, Estimator, Session, Options\n",
    "\n",
    "# Iniciamos sesión en IBM Quantum\n",
    "service = QiskitRuntimeService(channel=\"ibm_quantum\")"
   ]
  },
  {
   "cell_type": "code",
   "execution_count": 2,
   "id": "ce495045-83b9-4fcd-a085-f579e465eb35",
   "metadata": {
    "tags": []
   },
   "outputs": [],
   "source": [
    "import networkx as nx\n",
    "import matplotlib.pyplot as plt\n",
    "import matplotlib.axes as axes\n",
    "%matplotlib inline\n",
    "\n",
    "import numpy as np\n",
    "from qiskit_optimization.applications import VehicleRouting as Vrp"
   ]
  },
  {
   "cell_type": "code",
   "execution_count": 3,
   "id": "a8aa4553-8889-4a22-a6aa-215101dc6803",
   "metadata": {
    "tags": []
   },
   "outputs": [],
   "source": [
    "def qaoa_callback(count, params, mean, metadata):\n",
    "    \"\"\"\n",
    "    Callback function for QAOA (Quantum Approximate Optimization Algorithm) that provides\n",
    "    updates on the state of the process every 10 iterations.\n",
    "    \n",
    "    Parameters:\n",
    "    - count (int): The current iteration count.\n",
    "    - params (list): The parameters used in the current iteration.\n",
    "    - mean (float): The mean value for the current iteration.\n",
    "    - metadata (dict): Additional metadata related to the current iteration.\n",
    "    \"\"\"\n",
    "    \n",
    "    if count % 10 == 0:\n",
    "        print('Iteration:', count, ', value:', mean)"
   ]
  },
  {
   "cell_type": "code",
   "execution_count": 4,
   "id": "78319a04-8acf-406c-ab2f-a2abce5ac4ca",
   "metadata": {
    "tags": []
   },
   "outputs": [],
   "source": [
    "def draw_graph(G, colors, pos):\n",
    "    \"\"\"\n",
    "    Auxiliary function to help draw a graph.\n",
    "    \n",
    "    Parameters:\n",
    "    - G (Graph): Graph object.\n",
    "    - colors (list): List of colors for the nodes.\n",
    "    - pos (list): Positions of the nodes for drawing.\n",
    "    \"\"\"\n",
    "    \n",
    "    default_axes = plt.axes()\n",
    "    nx.draw_networkx(G, node_color=colors, node_size=600, ax=default_axes, pos=pos)\n",
    "    \n",
    "    edge_labels = nx.get_edge_attributes(G, 'weight')\n",
    "    nx.draw_networkx_edge_labels(G, pos=pos, edge_labels=edge_labels)"
   ]
  },
  {
   "cell_type": "markdown",
   "id": "29094fd9-9a37-48b5-976a-ef06f267adbe",
   "metadata": {},
   "source": [
    "## Graph Creation and Visualization\n",
    "\n",
    "- **Number of Nodes**: set the number of nodes for the graph. A value greater than 4 can lead to longer execution times. \n",
    "- **Random Graph Generations**: create a random graph instance using the specified number of nodes\n",
    "- **Adjacency Matrix**: convert the graph into an adjacency matrix and displays it\n",
    "- **Node Colors**: define a color (red) for each node in the graph\n",
    "- **Node Positions**: determines the position of the nodes for visualization\n",
    "- **Graph Visualization**: draw the graph using the defined colors and positions."
   ]
  },
  {
   "cell_type": "code",
   "execution_count": 5,
   "id": "a6fe26be-97a6-4dfe-9362-526d2ed50c27",
   "metadata": {
    "tags": []
   },
   "outputs": [
    {
     "name": "stdout",
     "output_type": "stream",
     "text": [
      "[[ 0. 64. 46. 31.]\n",
      " [64.  0. 76. 94.]\n",
      " [46. 76.  0. 49.]\n",
      " [31. 94. 49.  0.]]\n"
     ]
    },
    {
     "data": {
      "image/png": "[encoded data removed]",
      "text/plain": [
       "<Figure size 640x480 with 1 Axes>"
      ]
     },
     "metadata": {},
     "output_type": "display_data"
    }
   ],
   "source": [
    "n = 4\n",
    "vrp = Vrp.create_random_instance(n, seed=123)\n",
    "adj_matrix = nx.to_numpy_array(vrp.graph)\n",
    "\n",
    "print(adj_matrix)\n",
    "\n",
    "colors = ['r' for node in vrp.graph.nodes]\n",
    "\n",
    "pos = [vrp.graph.nodes[node]['pos']  for node in vrp.graph.nodes]\n",
    "\n",
    "draw_graph(vrp.graph, colors, pos)"
   ]
  },
  {
   "cell_type": "markdown",
   "id": "6fc16dda-b01a-45d9-8f0c-0064d6188c13",
   "metadata": {},
   "source": [
    "### Quantum Approximate Optimization Algorithm (QAOA) for VRP\n",
    "\n",
    "- **Quadratic Program Conversion**: Convert the VRP problem into a quadratic program, which contains the Hamiltonian solved."
   ]
  },
  {
   "cell_type": "code",
   "execution_count": 6,
   "id": "6f90b36d-8d2c-4ada-a2aa-82598230d89e",
   "metadata": {
    "tags": []
   },
   "outputs": [
    {
     "name": "stdout",
     "output_type": "stream",
     "text": [
      "Problem name: Vehicle routing\n",
      "\n",
      "Minimize\n",
      "  64*x_0_1 + 46*x_0_2 + 31*x_0_3 + 64*x_1_0 + 76*x_1_2 + 94*x_1_3 + 46*x_2_0\n",
      "  + 76*x_2_1 + 49*x_2_3 + 31*x_3_0 + 94*x_3_1 + 49*x_3_2\n",
      "\n",
      "Subject to\n",
      "  Linear constraints (12)\n",
      "    x_1_0 + x_1_2 + x_1_3 == 1  'c0'\n",
      "    x_2_0 + x_2_1 + x_2_3 == 1  'c1'\n",
      "    x_3_0 + x_3_1 + x_3_2 == 1  'c2'\n",
      "    x_0_1 + x_2_1 + x_3_1 == 1  'c3'\n",
      "    x_0_2 + x_1_2 + x_3_2 == 1  'c4'\n",
      "    x_0_3 + x_1_3 + x_2_3 == 1  'c5'\n",
      "    x_1_0 + x_2_0 + x_3_0 == 2  'c6'\n",
      "    x_0_1 + x_0_2 + x_0_3 == 2  'c7'\n",
      "    x_1_2 + x_2_1 <= 1  'c8'\n",
      "    x_1_3 + x_3_1 <= 1  'c9'\n",
      "    x_2_3 + x_3_2 <= 1  'c10'\n",
      "    x_1_2 + x_1_3 + x_2_1 + x_2_3 + x_3_1 + x_3_2 <= 2  'c11'\n",
      "\n",
      "  Binary variables (12)\n",
      "    x_0_1 x_0_2 x_0_3 x_1_0 x_1_2 x_1_3 x_2_0 x_2_1 x_2_3 x_3_0 x_3_1 x_3_2\n",
      "\n"
     ]
    }
   ],
   "source": [
    "qp = vrp.to_quadratic_program()\n",
    "\n",
    "print(qp.prettyprint())"
   ]
  },
  {
   "cell_type": "markdown",
   "id": "8f9a3994-1f13-4d5e-a881-d6f213a3c3e0",
   "metadata": {},
   "source": [
    "### QAOA Implementation with Qiskit\n",
    "\n",
    "- **Quantum Session Creation**: established a session with the desired quantum backend\n",
    "- **QAOA Intialization**: set up a QAOA instance using the classical COBYLA optimizer, a default sampler, and the previously defined callback function\n",
    "- **Optimization Process**: use the optimizer to obtained a linked system, solves the quadratic program with the system and displays the result."
   ]
  },
  {
   "cell_type": "code",
   "execution_count": 7,
   "id": "2120d965-95b5-42b0-9524-46ea7401034f",
   "metadata": {
    "tags": []
   },
   "outputs": [
    {
     "name": "stdout",
     "output_type": "stream",
     "text": [
      "Iteration: 10 , value: (-1270.4262500000013+0j)\n",
      "Iteration: 20 , value: (93.68450000000044+0j)\n",
      "fval=248.0, x_0_1=0.0, x_0_2=1.0, x_0_3=1.0, x_1_0=1.0, x_1_2=0.0, x_1_3=0.0, x_2_0=0.0, x_2_1=1.0, x_2_3=0.0, x_3_0=1.0, x_3_1=0.0, x_3_2=0.0, status=SUCCESS\n"
     ]
    }
   ],
   "source": [
    "from qiskit_algorithms.optimizers import COBYLA\n",
    "from qiskit.algorithms.minimum_eigensolvers import QAOA\n",
    "from qiskit_optimization.algorithms import MinimumEigenOptimizer\n",
    "\n",
    "with Session(service=service, backend=\"ibmq_qasm_simulator\") as session:\n",
    "    qaoa = QAOA(sampler=Sampler(session=session), optimizer=COBYLA(maxiter=100), callback=qaoa_callback)\n",
    "    qaoa_meo = MinimumEigenOptimizer(qaoa)\n",
    "    qaoa_result = qaoa_meo.solve(qp)\n",
    "\n",
    "    print(qaoa_result)"
   ]
  },
  {
   "cell_type": "markdown",
   "id": "e0a0e9f9-eab7-4576-ab12-b2d531e3e4ad",
   "metadata": {},
   "source": [
    "### Interpretation of QAOA Results\n",
    "\n",
    "Use the library to interpret the QAOA result and display the solution"
   ]
  },
  {
   "cell_type": "code",
   "execution_count": 8,
   "id": "4634eadc-6c31-4f99-ba2c-c6e509ec4615",
   "metadata": {
    "tags": []
   },
   "outputs": [
    {
     "name": "stdout",
     "output_type": "stream",
     "text": [
      "solution: [[[0, 2], [2, 1], [1, 0]], [[0, 3], [3, 0]]]\n"
     ]
    }
   ],
   "source": [
    "result = vrp.interpret(qaoa_result.x)\n",
    "print('solution:', result)"
   ]
  },
  {
   "cell_type": "code",
   "execution_count": 9,
   "id": "bb3a6157-11aa-4677-bc31-ec3c4120b9af",
   "metadata": {
    "tags": []
   },
   "outputs": [],
   "source": [
    "def draw_vrp_solution(G, order, colors, pos):\n",
    "    \"\"\"\n",
    "    Auxiliary function to visualize the final solution of the Vehicle Routing Problem (VRP).\n",
    "    \n",
    "    This function creates a directed graph from the original graph and adds directed edges \n",
    "    based on the provided order to represent the solution path. Each vehicle's route is \n",
    "    represented with a unique color.\n",
    "    \n",
    "    Parameters:\n",
    "    - G (Graph): The original graph representing the VRP.\n",
    "    - order (list of lists): Each inner list represents the order of nodes for a particular \n",
    "                             vehicle's route, with each node represented as a tuple (start, end).\n",
    "    - colors (list): List of colors for the nodes.\n",
    "    - pos (list): Positions of the nodes for drawing.\n",
    "    \"\"\"\n",
    "    \n",
    "    G2 = nx.DiGraph()\n",
    "    G2.add_nodes_from(G)\n",
    "    vColors = ['r', 'g', 'b', 'y']\n",
    "    \n",
    "    for i, car in enumerate(order):\n",
    "        vColor = list(np.random.randint(0, 256, size=3)/256)\n",
    "        \n",
    "        for pair in car:\n",
    "            G2.add_edge(pair[0], pair[1], weight=G[pair[0]][pair[1]]['weight'], color=vColor)\n",
    "            \n",
    "    default_axes = plt.axes(frameon=True)\n",
    "    eColors = nx.get_edge_attributes(G2,'color').values()\n",
    "    nx.draw_networkx(G2, node_color=colors, node_size=600, alpha=.8, ax=default_axes, pos=pos, edge_color=eColors)\n",
    "    edge_labels = nx.get_edge_attributes(G2, 'weight')\n",
    "    nx.draw_networkx_edge_labels(G2, pos, font_color='b', edge_labels=edge_labels)"
   ]
  },
  {
   "cell_type": "markdown",
   "id": "ff739fa4-2809-4e32-b383-5f6704c82f21",
   "metadata": {},
   "source": [
    "Draw the final solution of the Vehicle Routing Problem using the QAOA result"
   ]
  },
  {
   "cell_type": "code",
   "execution_count": 10,
   "id": "5e00bd9a-533d-4245-aa18-b5e10c1a6278",
   "metadata": {
    "tags": []
   },
   "outputs": [
    {
     "data": {
      "image/png": "[encoded data removed]",
      "text/plain": [
       "<Figure size 640x480 with 1 Axes>"
      ]
     },
     "metadata": {},
     "output_type": "display_data"
    }
   ],
   "source": [
    "draw_vrp_solution(vrp.graph, result, colors, pos)"
   ]
  }
 ],
 "metadata": {
  "kernelspec": {
   "display_name": "Python 3 (ipykernel)",
   "language": "python",
   "name": "python3"
  },
  "language_info": {
   "codemirror_mode": {
    "name": "ipython",
    "version": 3
   },
   "file_extension": ".py",
   "mimetype": "text/x-python",
   "name": "python",
   "nbconvert_exporter": "python",
   "pygments_lexer": "ipython3",
   "version": "3.10.8"
  },
  "widgets": {
   "application/vnd.jupyter.widget-state+json": {
    "state": {
     "028e8fb5a4b6444ca21cd735af900313": {
      "model_module": "@jupyter-widgets/controls",
      "model_module_version": "2.0.0",
      "model_name": "HTMLModel",
      "state": {
       "layout": "IPY_MODEL_67de634ae48849d492d0cfa4d4318dfc",
       "style": "IPY_MODEL_12a268d664484a2c981480fb3695537c",
       "value": "<h5>Status</h5>"
      }
     },
     "0cc4678b22e043eb916cc685305085f2": {
      "model_module": "@jupyter-widgets/controls",
      "model_module_version": "2.0.0",
      "model_name": "HTMLStyleModel",
      "state": {
       "description_width": "",
       "font_size": null,
       "text_color": null
      }
     },
     "0ea4426404694fdfa6f8f59f4908456a": {
      "model_module": "@jupyter-widgets/controls",
      "model_module_version": "2.0.0",
      "model_name": "HTMLStyleModel",
      "state": {
       "description_width": "",
       "font_size": null,
       "text_color": null
      }
     },
     "12a268d664484a2c981480fb3695537c": {
      "model_module": "@jupyter-widgets/controls",
      "model_module_version": "2.0.0",
      "model_name": "HTMLStyleModel",
      "state": {
       "description_width": "",
       "font_size": null,
       "text_color": null
      }
     },
     "2858a6555e1944f59c38f1ecd391b38b": {
      "model_module": "@jupyter-widgets/base",
      "model_module_version": "2.0.0",
      "model_name": "LayoutModel",
      "state": {}
     },
     "29ddfbce2d014547a1b58c4f0daf97e3": {
      "model_module": "@jupyter-widgets/controls",
      "model_module_version": "2.0.0",
      "model_name": "HTMLModel",
      "state": {
       "layout": "IPY_MODEL_2858a6555e1944f59c38f1ecd391b38b",
       "style": "IPY_MODEL_0ea4426404694fdfa6f8f59f4908456a",
       "value": "<h5>Message</h5>"
      }
     },
     "4420542508044b12bcfbec112004ce2c": {
      "model_module": "@jupyter-widgets/controls",
      "model_module_version": "2.0.0",
      "model_name": "HTMLStyleModel",
      "state": {
       "description_width": "",
       "font_size": null,
       "text_color": null
      }
     },
     "468d215288cc4f1a8498e2da677a114c": {
      "model_module": "@jupyter-widgets/base",
      "model_module_version": "2.0.0",
      "model_name": "LayoutModel",
      "state": {
       "grid_template_areas": "\n                                       \". . . . right \"\n                                        ",
       "grid_template_columns": "20% 20% 20% 20% 20%",
       "width": "100%"
      }
     },
     "4dfc620b3d7c415caef72cfc73c0a359": {
      "model_module": "@jupyter-widgets/controls",
      "model_module_version": "2.0.0",
      "model_name": "GridBoxModel",
      "state": {
       "children": [
        "IPY_MODEL_83bc4869e35d4bdba45c2a066ff78ba2"
       ],
       "layout": "IPY_MODEL_468d215288cc4f1a8498e2da677a114c"
      }
     },
     "5a8b7d175e0b46c6adcc86bcbbfd8945": {
      "model_module": "@jupyter-widgets/controls",
      "model_module_version": "2.0.0",
      "model_name": "HTMLModel",
      "state": {
       "layout": "IPY_MODEL_a974b0bf8110487496cd54d332483418",
       "style": "IPY_MODEL_c0410500b59c4357a4ad679bfe026ccf",
       "value": "<h5>Queue</h5>"
      }
     },
     "5bba717e3e7e41648ca7c551049238fb": {
      "model_module": "@jupyter-widgets/controls",
      "model_module_version": "2.0.0",
      "model_name": "HTMLStyleModel",
      "state": {
       "description_width": "",
       "font_size": null,
       "text_color": null
      }
     },
     "5feea9cc5e5d4a4eb7c30116ac4f8698": {
      "model_module": "@jupyter-widgets/controls",
      "model_module_version": "2.0.0",
      "model_name": "HTMLModel",
      "state": {
       "layout": "IPY_MODEL_e3d19587fe5e4e0089dc8275c7a8191d",
       "style": "IPY_MODEL_4420542508044b12bcfbec112004ce2c",
       "value": "<h5>Job ID</h5>"
      }
     },
     "63ada2ae37f445d188595760882c77e8": {
      "model_module": "@jupyter-widgets/base",
      "model_module_version": "2.0.0",
      "model_name": "LayoutModel",
      "state": {
       "margin": "0px 0px 0px 37px",
       "width": "600px"
      }
     },
     "67de634ae48849d492d0cfa4d4318dfc": {
      "model_module": "@jupyter-widgets/base",
      "model_module_version": "2.0.0",
      "model_name": "LayoutModel",
      "state": {
       "width": "95px"
      }
     },
     "6db333a80f6d4d76a433a47038223f5a": {
      "model_module": "@jupyter-widgets/controls",
      "model_module_version": "2.0.0",
      "model_name": "ButtonStyleModel",
      "state": {
       "font_family": null,
       "font_size": null,
       "font_style": null,
       "font_variant": null,
       "font_weight": null,
       "text_color": null,
       "text_decoration": null
      }
     },
     "83bc4869e35d4bdba45c2a066ff78ba2": {
      "model_module": "@jupyter-widgets/controls",
      "model_module_version": "2.0.0",
      "model_name": "ButtonModel",
      "state": {
       "button_style": "primary",
       "description": "Clear",
       "layout": "IPY_MODEL_bf74475d4d704118b68d5a0912131d53",
       "style": "IPY_MODEL_6db333a80f6d4d76a433a47038223f5a",
       "tooltip": null
      }
     },
     "873101047b8d4dd68ca323d98cb221ca": {
      "model_module": "@jupyter-widgets/controls",
      "model_module_version": "2.0.0",
      "model_name": "HTMLModel",
      "state": {
       "layout": "IPY_MODEL_9c11facf9375476aaeb302e2fc25cc54",
       "style": "IPY_MODEL_5bba717e3e7e41648ca7c551049238fb",
       "value": "<h5>Backend</h5>"
      }
     },
     "94afac09903a403aa4c83a1ae8ba6876": {
      "model_module": "@jupyter-widgets/base",
      "model_module_version": "2.0.0",
      "model_name": "LayoutModel",
      "state": {
       "margin": "0px 0px 10px 0px"
      }
     },
     "9c11facf9375476aaeb302e2fc25cc54": {
      "model_module": "@jupyter-widgets/base",
      "model_module_version": "2.0.0",
      "model_name": "LayoutModel",
      "state": {
       "width": "145px"
      }
     },
     "a974b0bf8110487496cd54d332483418": {
      "model_module": "@jupyter-widgets/base",
      "model_module_version": "2.0.0",
      "model_name": "LayoutModel",
      "state": {
       "width": "70px"
      }
     },
     "bf74475d4d704118b68d5a0912131d53": {
      "model_module": "@jupyter-widgets/base",
      "model_module_version": "2.0.0",
      "model_name": "LayoutModel",
      "state": {
       "grid_area": "right",
       "padding": "0px 0px 0px 0px",
       "width": "70px"
      }
     },
     "c0410500b59c4357a4ad679bfe026ccf": {
      "model_module": "@jupyter-widgets/controls",
      "model_module_version": "2.0.0",
      "model_name": "HTMLStyleModel",
      "state": {
       "description_width": "",
       "font_size": null,
       "text_color": null
      }
     },
     "cc6fd8d6563d49e1856db02543cade41": {
      "model_module": "@jupyter-widgets/controls",
      "model_module_version": "2.0.0",
      "model_name": "HTMLModel",
      "state": {
       "layout": "IPY_MODEL_94afac09903a403aa4c83a1ae8ba6876",
       "style": "IPY_MODEL_0cc4678b22e043eb916cc685305085f2",
       "value": "<p style='font-family: IBM Plex Sans, Arial, Helvetica, sans-serif; font-size: 20px; font-weight: medium;'>Circuit Properties</p>"
      }
     },
     "e1275662a8b14ff09202cdfc96300520": {
      "model_module": "@jupyter-widgets/controls",
      "model_module_version": "2.0.0",
      "model_name": "HBoxModel",
      "state": {
       "children": [
        "IPY_MODEL_5feea9cc5e5d4a4eb7c30116ac4f8698",
        "IPY_MODEL_873101047b8d4dd68ca323d98cb221ca",
        "IPY_MODEL_028e8fb5a4b6444ca21cd735af900313",
        "IPY_MODEL_5a8b7d175e0b46c6adcc86bcbbfd8945",
        "IPY_MODEL_29ddfbce2d014547a1b58c4f0daf97e3"
       ],
       "layout": "IPY_MODEL_63ada2ae37f445d188595760882c77e8"
      }
     },
     "e3d19587fe5e4e0089dc8275c7a8191d": {
      "model_module": "@jupyter-widgets/base",
      "model_module_version": "2.0.0",
      "model_name": "LayoutModel",
      "state": {
       "width": "190px"
      }
     }
    },
    "version_major": 2,
    "version_minor": 0
   }
  }
 },
 "nbformat": 4,
 "nbformat_minor": 5
}
